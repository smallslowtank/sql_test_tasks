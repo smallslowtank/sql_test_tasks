{
 "cells": [
  {
   "cell_type": "markdown",
   "id": "9c742621-7300-427d-972e-d67a3f46b6a2",
   "metadata": {},
   "source": [
    "### Дано\n",
    "Две таблицы: сотрудники и менеджеры.\n",
    "### Задача\n",
    "Нужно вывести список сотрудников и их менеджеров.\n",
    "\n",
    "Если у сотрудника нет менеджера, то он всё равно должен быть в списке, но без указания менеджера."
   ]
  },
  {
   "cell_type": "code",
   "execution_count": 1,
   "id": "9c5a953d-b932-4683-89f7-24c2fbd56be3",
   "metadata": {},
   "outputs": [],
   "source": [
    "import pandas as pd\n",
    "\n",
    "data_employees = {\n",
    "    'emploee_id': [1, 2, 3, 4, 5],\n",
    "    'name': ['Alice', 'Bob', 'Charlie', 'Diana', 'Edvard'],\n",
    "    'manager_id': [None, 1, 1, 2, 2],\n",
    "}\n",
    "employees = pd.DataFrame(data=data_employees)\n",
    "\n",
    "data_managers = {\n",
    "    'manager_id': [1, 2],\n",
    "    'name': ['M1', 'M2'],\n",
    "}\n",
    "managers = pd.DataFrame(data=data_managers)"
   ]
  },
  {
   "cell_type": "code",
   "execution_count": 2,
   "id": "54c6b272-363c-4983-9fc2-f4595dd1053d",
   "metadata": {},
   "outputs": [],
   "source": [
    "# Лефт джойт и переименование колонок\n",
    "result = employees.merge(managers, how='left', on='manager_id').rename(columns={'name_x': 'emploee_name', 'name_y': 'manager_name'})"
   ]
  },
  {
   "cell_type": "code",
   "execution_count": 3,
   "id": "b627cb4d-a329-4a93-932b-ae0d0fb3b9e5",
   "metadata": {},
   "outputs": [
    {
     "data": {
      "text/html": [
       "<div>\n",
       "<style scoped>\n",
       "    .dataframe tbody tr th:only-of-type {\n",
       "        vertical-align: middle;\n",
       "    }\n",
       "\n",
       "    .dataframe tbody tr th {\n",
       "        vertical-align: top;\n",
       "    }\n",
       "\n",
       "    .dataframe thead th {\n",
       "        text-align: right;\n",
       "    }\n",
       "</style>\n",
       "<table border=\"1\" class=\"dataframe\">\n",
       "  <thead>\n",
       "    <tr style=\"text-align: right;\">\n",
       "      <th></th>\n",
       "      <th>emploee_name</th>\n",
       "      <th>manager_name</th>\n",
       "    </tr>\n",
       "  </thead>\n",
       "  <tbody>\n",
       "    <tr>\n",
       "      <th>0</th>\n",
       "      <td>Alice</td>\n",
       "      <td>no manager</td>\n",
       "    </tr>\n",
       "    <tr>\n",
       "      <th>1</th>\n",
       "      <td>Bob</td>\n",
       "      <td>M1</td>\n",
       "    </tr>\n",
       "    <tr>\n",
       "      <th>2</th>\n",
       "      <td>Charlie</td>\n",
       "      <td>M1</td>\n",
       "    </tr>\n",
       "    <tr>\n",
       "      <th>3</th>\n",
       "      <td>Diana</td>\n",
       "      <td>M2</td>\n",
       "    </tr>\n",
       "    <tr>\n",
       "      <th>4</th>\n",
       "      <td>Edvard</td>\n",
       "      <td>M2</td>\n",
       "    </tr>\n",
       "  </tbody>\n",
       "</table>\n",
       "</div>"
      ],
      "text/plain": [
       "  emploee_name manager_name\n",
       "0        Alice   no manager\n",
       "1          Bob           M1\n",
       "2      Charlie           M1\n",
       "3        Diana           M2\n",
       "4       Edvard           M2"
      ]
     },
     "execution_count": 3,
     "metadata": {},
     "output_type": "execute_result"
    }
   ],
   "source": [
    "# Вывод списка сотрудников и их менеджеров, если менеджера нет, то выводится надпись 'no manager'\n",
    "result[['emploee_name', 'manager_name']].fillna('no manager')"
   ]
  },
  {
   "cell_type": "code",
   "execution_count": null,
   "id": "22706f31-7d60-4587-b9f4-558f4ae2a4b1",
   "metadata": {},
   "outputs": [],
   "source": []
  }
 ],
 "metadata": {
  "kernelspec": {
   "display_name": "Python 3 (ipykernel)",
   "language": "python",
   "name": "python3"
  },
  "language_info": {
   "codemirror_mode": {
    "name": "ipython",
    "version": 3
   },
   "file_extension": ".py",
   "mimetype": "text/x-python",
   "name": "python",
   "nbconvert_exporter": "python",
   "pygments_lexer": "ipython3",
   "version": "3.10.12"
  }
 },
 "nbformat": 4,
 "nbformat_minor": 5
}
