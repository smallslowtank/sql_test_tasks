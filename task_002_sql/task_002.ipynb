{
 "cells": [
  {
   "cell_type": "markdown",
   "id": "07c6c3d0-1587-49f9-9a1b-629be6024281",
   "metadata": {},
   "source": [
    "### Дано\n",
    "Таблица:\n",
    "\n",
    "'order_id' - идентификатор заказа\n",
    "\n",
    "'customer_id' - идентификатор клиента\n",
    "\n",
    "'order_date' - дата заказа\n",
    "\n",
    "'order_amount' - сумма заказа\n",
    "\n",
    "### Задание\n",
    "Написать запрос, который выводит следующую информацию для каждого заказа:\n",
    "\n",
    "'order_id' - идентификатор заказа\n",
    "\n",
    "'customer_id' - идентификатор клиента\n",
    "\n",
    "'order_date' - дата заказа\n",
    "\n",
    "'order_amount' - сумма заказа\n",
    "\n",
    "'running_total' - накопленная сумма заказов клиента (упорядоченных по дате)"
   ]
  },
  {
   "cell_type": "code",
   "execution_count": 1,
   "id": "6f9f0fac-c281-4cc2-a59a-500b9276530d",
   "metadata": {},
   "outputs": [],
   "source": [
    "import pandas as pd\n",
    "\n",
    "data_orders = {\n",
    "    'order_id': [1, 2, 3, 4, 5],\n",
    "    'customer_id': [101, 101, 102, 101, 102],\n",
    "    'order_date': ['2024-01-01', '2024-01-05', '2024-01-03', '2024-01-10', '2024-01-15'],\n",
    "    'order_amount': [100, 200, 150, 300, 250],\n",
    "}\n",
    "orders = pd.DataFrame(data=data_orders)"
   ]
  },
  {
   "cell_type": "code",
   "execution_count": 2,
   "id": "6c5ab7cb-3bde-4375-be2d-4fac01a6273b",
   "metadata": {},
   "outputs": [
    {
     "data": {
      "text/html": [
       "<div>\n",
       "<style scoped>\n",
       "    .dataframe tbody tr th:only-of-type {\n",
       "        vertical-align: middle;\n",
       "    }\n",
       "\n",
       "    .dataframe tbody tr th {\n",
       "        vertical-align: top;\n",
       "    }\n",
       "\n",
       "    .dataframe thead th {\n",
       "        text-align: right;\n",
       "    }\n",
       "</style>\n",
       "<table border=\"1\" class=\"dataframe\">\n",
       "  <thead>\n",
       "    <tr style=\"text-align: right;\">\n",
       "      <th></th>\n",
       "      <th>order_id</th>\n",
       "      <th>customer_id</th>\n",
       "      <th>order_date</th>\n",
       "      <th>order_amount</th>\n",
       "    </tr>\n",
       "  </thead>\n",
       "  <tbody>\n",
       "    <tr>\n",
       "      <th>0</th>\n",
       "      <td>1</td>\n",
       "      <td>101</td>\n",
       "      <td>2024-01-01</td>\n",
       "      <td>100</td>\n",
       "    </tr>\n",
       "    <tr>\n",
       "      <th>1</th>\n",
       "      <td>2</td>\n",
       "      <td>101</td>\n",
       "      <td>2024-01-05</td>\n",
       "      <td>200</td>\n",
       "    </tr>\n",
       "    <tr>\n",
       "      <th>2</th>\n",
       "      <td>3</td>\n",
       "      <td>102</td>\n",
       "      <td>2024-01-03</td>\n",
       "      <td>150</td>\n",
       "    </tr>\n",
       "    <tr>\n",
       "      <th>3</th>\n",
       "      <td>4</td>\n",
       "      <td>101</td>\n",
       "      <td>2024-01-10</td>\n",
       "      <td>300</td>\n",
       "    </tr>\n",
       "    <tr>\n",
       "      <th>4</th>\n",
       "      <td>5</td>\n",
       "      <td>102</td>\n",
       "      <td>2024-01-15</td>\n",
       "      <td>250</td>\n",
       "    </tr>\n",
       "  </tbody>\n",
       "</table>\n",
       "</div>"
      ],
      "text/plain": [
       "   order_id  customer_id  order_date  order_amount\n",
       "0         1          101  2024-01-01           100\n",
       "1         2          101  2024-01-05           200\n",
       "2         3          102  2024-01-03           150\n",
       "3         4          101  2024-01-10           300\n",
       "4         5          102  2024-01-15           250"
      ]
     },
     "execution_count": 2,
     "metadata": {},
     "output_type": "execute_result"
    }
   ],
   "source": [
    "orders"
   ]
  },
  {
   "cell_type": "code",
   "execution_count": 3,
   "id": "fd5d3721-43ac-4c7f-a620-67a1a26a0a18",
   "metadata": {},
   "outputs": [],
   "source": [
    "orders['running_total'] = orders.groupby(['customer_id'])['order_amount'].cumsum()"
   ]
  },
  {
   "cell_type": "code",
   "execution_count": 4,
   "id": "f899b478-d8f2-4f44-a213-da77814b2848",
   "metadata": {},
   "outputs": [
    {
     "data": {
      "text/html": [
       "<div>\n",
       "<style scoped>\n",
       "    .dataframe tbody tr th:only-of-type {\n",
       "        vertical-align: middle;\n",
       "    }\n",
       "\n",
       "    .dataframe tbody tr th {\n",
       "        vertical-align: top;\n",
       "    }\n",
       "\n",
       "    .dataframe thead th {\n",
       "        text-align: right;\n",
       "    }\n",
       "</style>\n",
       "<table border=\"1\" class=\"dataframe\">\n",
       "  <thead>\n",
       "    <tr style=\"text-align: right;\">\n",
       "      <th></th>\n",
       "      <th>order_id</th>\n",
       "      <th>customer_id</th>\n",
       "      <th>order_date</th>\n",
       "      <th>order_amount</th>\n",
       "      <th>running_total</th>\n",
       "    </tr>\n",
       "  </thead>\n",
       "  <tbody>\n",
       "    <tr>\n",
       "      <th>0</th>\n",
       "      <td>1</td>\n",
       "      <td>101</td>\n",
       "      <td>2024-01-01</td>\n",
       "      <td>100</td>\n",
       "      <td>100</td>\n",
       "    </tr>\n",
       "    <tr>\n",
       "      <th>1</th>\n",
       "      <td>2</td>\n",
       "      <td>101</td>\n",
       "      <td>2024-01-05</td>\n",
       "      <td>200</td>\n",
       "      <td>300</td>\n",
       "    </tr>\n",
       "    <tr>\n",
       "      <th>2</th>\n",
       "      <td>3</td>\n",
       "      <td>102</td>\n",
       "      <td>2024-01-03</td>\n",
       "      <td>150</td>\n",
       "      <td>150</td>\n",
       "    </tr>\n",
       "    <tr>\n",
       "      <th>3</th>\n",
       "      <td>4</td>\n",
       "      <td>101</td>\n",
       "      <td>2024-01-10</td>\n",
       "      <td>300</td>\n",
       "      <td>600</td>\n",
       "    </tr>\n",
       "    <tr>\n",
       "      <th>4</th>\n",
       "      <td>5</td>\n",
       "      <td>102</td>\n",
       "      <td>2024-01-15</td>\n",
       "      <td>250</td>\n",
       "      <td>400</td>\n",
       "    </tr>\n",
       "  </tbody>\n",
       "</table>\n",
       "</div>"
      ],
      "text/plain": [
       "   order_id  customer_id  order_date  order_amount  running_total\n",
       "0         1          101  2024-01-01           100            100\n",
       "1         2          101  2024-01-05           200            300\n",
       "2         3          102  2024-01-03           150            150\n",
       "3         4          101  2024-01-10           300            600\n",
       "4         5          102  2024-01-15           250            400"
      ]
     },
     "execution_count": 4,
     "metadata": {},
     "output_type": "execute_result"
    }
   ],
   "source": [
    "orders"
   ]
  },
  {
   "cell_type": "code",
   "execution_count": null,
   "id": "21eb4ef1-7d7f-4256-bd3f-04bbe83f33a9",
   "metadata": {},
   "outputs": [],
   "source": []
  }
 ],
 "metadata": {
  "kernelspec": {
   "display_name": "Python 3 (ipykernel)",
   "language": "python",
   "name": "python3"
  },
  "language_info": {
   "codemirror_mode": {
    "name": "ipython",
    "version": 3
   },
   "file_extension": ".py",
   "mimetype": "text/x-python",
   "name": "python",
   "nbconvert_exporter": "python",
   "pygments_lexer": "ipython3",
   "version": "3.10.12"
  }
 },
 "nbformat": 4,
 "nbformat_minor": 5
}
