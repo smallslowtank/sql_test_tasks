{
 "cells": [
  {
   "cell_type": "code",
   "execution_count": 57,
   "id": "8ff11390-b10b-4b62-956b-c724c344e18f",
   "metadata": {},
   "outputs": [
    {
     "data": {
      "text/html": [
       "<div>\n",
       "<style scoped>\n",
       "    .dataframe tbody tr th:only-of-type {\n",
       "        vertical-align: middle;\n",
       "    }\n",
       "\n",
       "    .dataframe tbody tr th {\n",
       "        vertical-align: top;\n",
       "    }\n",
       "\n",
       "    .dataframe thead th {\n",
       "        text-align: right;\n",
       "    }\n",
       "</style>\n",
       "<table border=\"1\" class=\"dataframe\">\n",
       "  <thead>\n",
       "    <tr style=\"text-align: right;\">\n",
       "      <th></th>\n",
       "      <th>customer_id</th>\n",
       "      <th>order_date</th>\n",
       "      <th>amount</th>\n",
       "    </tr>\n",
       "  </thead>\n",
       "  <tbody>\n",
       "    <tr>\n",
       "      <th>0</th>\n",
       "      <td>101</td>\n",
       "      <td>2024-01-01</td>\n",
       "      <td>100.0</td>\n",
       "    </tr>\n",
       "    <tr>\n",
       "      <th>1</th>\n",
       "      <td>102</td>\n",
       "      <td>2024-01-02</td>\n",
       "      <td>200.0</td>\n",
       "    </tr>\n",
       "    <tr>\n",
       "      <th>2</th>\n",
       "      <td>103</td>\n",
       "      <td>None</td>\n",
       "      <td>150.0</td>\n",
       "    </tr>\n",
       "    <tr>\n",
       "      <th>3</th>\n",
       "      <td>104</td>\n",
       "      <td>2024-01-04</td>\n",
       "      <td>NaN</td>\n",
       "    </tr>\n",
       "  </tbody>\n",
       "</table>\n",
       "</div>"
      ],
      "text/plain": [
       "   customer_id  order_date  amount\n",
       "0          101  2024-01-01   100.0\n",
       "1          102  2024-01-02   200.0\n",
       "2          103        None   150.0\n",
       "3          104  2024-01-04     NaN"
      ]
     },
     "execution_count": 57,
     "metadata": {},
     "output_type": "execute_result"
    }
   ],
   "source": [
    "import pandas as pd\n",
    "\n",
    "data = pd.DataFrame({\n",
    "    \"customer_id\": [101, 102, 103, 104],\n",
    "    \"order_date\": [\"2024-01-01\", \"2024-01-02\", None, \"2024-01-04\"],\n",
    "    \"amount\": [100, 200, 150, None]\n",
    "})\n",
    "\n",
    "\n",
    "data"
   ]
  },
  {
   "cell_type": "markdown",
   "id": "c73669ef-8a65-469e-82b4-1dbaa8343d67",
   "metadata": {},
   "source": [
    "### Задачи:\n",
    "1. Заменить пропущенные даты в колонке 'order_date' на последнее непропущенное значение даты из педыдущих строк\n",
    "2. Заменить пропущенные значения в колонке 'amout' на среднее значение по этой колонке"
   ]
  },
  {
   "cell_type": "code",
   "execution_count": 58,
   "id": "91b21dfa-18a3-4d3c-9405-5d869bcb8c95",
   "metadata": {},
   "outputs": [],
   "source": [
    "data_date_fill = pd.DataFrame(data=data)"
   ]
  },
  {
   "cell_type": "markdown",
   "id": "8413e9a5-cce3-4d8a-8393-4fb198c74f1c",
   "metadata": {},
   "source": [
    "### 1 Заменить пропущенные даты в колонке 'order_date' на последнее непропущенное значение даты из педыдущих строк"
   ]
  },
  {
   "cell_type": "code",
   "execution_count": 59,
   "id": "bfef3220-0072-47b7-aee7-87043f6ab28c",
   "metadata": {},
   "outputs": [],
   "source": [
    "data_date_fill['order_date'] = data_date_fill['order_date'].ffill()"
   ]
  },
  {
   "cell_type": "code",
   "execution_count": 60,
   "id": "5b315ff0-8fc2-446e-991d-0281f1e5f989",
   "metadata": {},
   "outputs": [
    {
     "data": {
      "text/html": [
       "<div>\n",
       "<style scoped>\n",
       "    .dataframe tbody tr th:only-of-type {\n",
       "        vertical-align: middle;\n",
       "    }\n",
       "\n",
       "    .dataframe tbody tr th {\n",
       "        vertical-align: top;\n",
       "    }\n",
       "\n",
       "    .dataframe thead th {\n",
       "        text-align: right;\n",
       "    }\n",
       "</style>\n",
       "<table border=\"1\" class=\"dataframe\">\n",
       "  <thead>\n",
       "    <tr style=\"text-align: right;\">\n",
       "      <th></th>\n",
       "      <th>customer_id</th>\n",
       "      <th>order_date</th>\n",
       "      <th>amount</th>\n",
       "    </tr>\n",
       "  </thead>\n",
       "  <tbody>\n",
       "    <tr>\n",
       "      <th>0</th>\n",
       "      <td>101</td>\n",
       "      <td>2024-01-01</td>\n",
       "      <td>100.0</td>\n",
       "    </tr>\n",
       "    <tr>\n",
       "      <th>1</th>\n",
       "      <td>102</td>\n",
       "      <td>2024-01-02</td>\n",
       "      <td>200.0</td>\n",
       "    </tr>\n",
       "    <tr>\n",
       "      <th>2</th>\n",
       "      <td>103</td>\n",
       "      <td>2024-01-02</td>\n",
       "      <td>150.0</td>\n",
       "    </tr>\n",
       "    <tr>\n",
       "      <th>3</th>\n",
       "      <td>104</td>\n",
       "      <td>2024-01-04</td>\n",
       "      <td>NaN</td>\n",
       "    </tr>\n",
       "  </tbody>\n",
       "</table>\n",
       "</div>"
      ],
      "text/plain": [
       "   customer_id  order_date  amount\n",
       "0          101  2024-01-01   100.0\n",
       "1          102  2024-01-02   200.0\n",
       "2          103  2024-01-02   150.0\n",
       "3          104  2024-01-04     NaN"
      ]
     },
     "execution_count": 60,
     "metadata": {},
     "output_type": "execute_result"
    }
   ],
   "source": [
    "data_date_fill"
   ]
  },
  {
   "cell_type": "markdown",
   "id": "da3499d1-632f-4a88-a96e-a6fdf9144c9e",
   "metadata": {},
   "source": [
    "### 2 Заменить пропущенные значения в колонке 'amout' на среднее значение по этой колонке"
   ]
  },
  {
   "cell_type": "code",
   "execution_count": 61,
   "id": "8114b5bc-7a45-4e4f-b634-17c9ce6b1dad",
   "metadata": {},
   "outputs": [],
   "source": [
    "data_date_fill['amount'] = data_date_fill['amount'].fillna(value=data_date_fill['amount'].mean())"
   ]
  },
  {
   "cell_type": "code",
   "execution_count": 62,
   "id": "c8da0343-31dd-414e-b30d-7a053c6601cf",
   "metadata": {},
   "outputs": [
    {
     "data": {
      "text/html": [
       "<div>\n",
       "<style scoped>\n",
       "    .dataframe tbody tr th:only-of-type {\n",
       "        vertical-align: middle;\n",
       "    }\n",
       "\n",
       "    .dataframe tbody tr th {\n",
       "        vertical-align: top;\n",
       "    }\n",
       "\n",
       "    .dataframe thead th {\n",
       "        text-align: right;\n",
       "    }\n",
       "</style>\n",
       "<table border=\"1\" class=\"dataframe\">\n",
       "  <thead>\n",
       "    <tr style=\"text-align: right;\">\n",
       "      <th></th>\n",
       "      <th>customer_id</th>\n",
       "      <th>order_date</th>\n",
       "      <th>amount</th>\n",
       "    </tr>\n",
       "  </thead>\n",
       "  <tbody>\n",
       "    <tr>\n",
       "      <th>0</th>\n",
       "      <td>101</td>\n",
       "      <td>2024-01-01</td>\n",
       "      <td>100.0</td>\n",
       "    </tr>\n",
       "    <tr>\n",
       "      <th>1</th>\n",
       "      <td>102</td>\n",
       "      <td>2024-01-02</td>\n",
       "      <td>200.0</td>\n",
       "    </tr>\n",
       "    <tr>\n",
       "      <th>2</th>\n",
       "      <td>103</td>\n",
       "      <td>2024-01-02</td>\n",
       "      <td>150.0</td>\n",
       "    </tr>\n",
       "    <tr>\n",
       "      <th>3</th>\n",
       "      <td>104</td>\n",
       "      <td>2024-01-04</td>\n",
       "      <td>150.0</td>\n",
       "    </tr>\n",
       "  </tbody>\n",
       "</table>\n",
       "</div>"
      ],
      "text/plain": [
       "   customer_id  order_date  amount\n",
       "0          101  2024-01-01   100.0\n",
       "1          102  2024-01-02   200.0\n",
       "2          103  2024-01-02   150.0\n",
       "3          104  2024-01-04   150.0"
      ]
     },
     "execution_count": 62,
     "metadata": {},
     "output_type": "execute_result"
    }
   ],
   "source": [
    "data_date_fill"
   ]
  }
 ],
 "metadata": {
  "kernelspec": {
   "display_name": "Python 3 (ipykernel)",
   "language": "python",
   "name": "python3"
  },
  "language_info": {
   "codemirror_mode": {
    "name": "ipython",
    "version": 3
   },
   "file_extension": ".py",
   "mimetype": "text/x-python",
   "name": "python",
   "nbconvert_exporter": "python",
   "pygments_lexer": "ipython3",
   "version": "3.10.12"
  }
 },
 "nbformat": 4,
 "nbformat_minor": 5
}
