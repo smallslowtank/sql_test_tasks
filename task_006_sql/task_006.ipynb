{
 "cells": [
  {
   "cell_type": "markdown",
   "id": "2ef22d34-a308-446a-a31c-786df0eac0e8",
   "metadata": {},
   "source": [
    "### Дано:\n",
    "Таблица active_clients содержит ежемесячный срез клиентов банка, которые совершали какие-либо транзакции в данном месяце.\n",
    "Поля: отчетный месяц (report_month) и идентификатор клиента (client_id).\n",
    "Считаем, что клиент \"оттек\" из банка в месяце N, если в месяце N он активен (присутсвует в таблице active_clients) и не активен в месяцы N+1, N+2, N+3.\n",
    "### Задание:\n",
    "Вывести количество активных клиентов на каждый месяц и долю клиентов, которые \"оттекли\" в каждом месяце."
   ]
  },
  {
   "cell_type": "code",
   "execution_count": 1,
   "id": "1e9a3a0c-9635-4546-8870-9f1a5d8c7eb0",
   "metadata": {},
   "outputs": [],
   "source": [
    "import pandas as pd\n",
    "\n",
    "column_report_month = [\n",
    "    '2018-01-01', '2018-01-01', '2018-01-01', '2018-02-01', '2018-02-01', '2018-03-01','2018-03-01',\n",
    "    '2018-04-01', '2018-04-01', '2018-04-01', '2018-05-01', '2018-05-01', '2018-05-01'\n",
    "]\n",
    "column_client_id = [\n",
    "    '1', '2', '3', '2', '4', '1', '2', '1', '2', '4', '1', '5', '2'\n",
    "]\n",
    "active_clients = pd.DataFrame(columns=['report_month', 'client_id'])\n",
    "active_clients['report_month'] = column_report_month\n",
    "active_clients['report_month'] = pd.to_datetime(active_clients['report_month'])\n",
    "active_clients['client_id'] = column_client_id\n",
    "active_clients['client_id'] = active_clients['client_id'].astype('int32')"
   ]
  },
  {
   "cell_type": "code",
   "execution_count": 2,
   "id": "0daa5d63-bd77-46be-b05e-754ec22a40d8",
   "metadata": {},
   "outputs": [],
   "source": [
    "# Копия датасета с сортировкой по клиентам и месяцам\n",
    "active_clients_month = active_clients[['client_id','report_month']] \\\n",
    "    .sort_values(['client_id','report_month']) \\\n",
    "    .reset_index(drop=True) \\\n",
    "    .copy(deep=False)"
   ]
  },
  {
   "cell_type": "code",
   "execution_count": 3,
   "id": "14c554dc-9301-456a-81da-56f423bb825e",
   "metadata": {},
   "outputs": [],
   "source": [
    "# Добавить столбец со следующим активным месяцем\n",
    "active_clients_month['till_next_active_month'] = active_clients_month \\\n",
    "    .groupby(['client_id'])['report_month'].shift(-1)"
   ]
  },
  {
   "cell_type": "code",
   "execution_count": 4,
   "id": "a11a4fff-19d3-42fb-bb8d-6fd90d2ce1e6",
   "metadata": {},
   "outputs": [
    {
     "name": "stderr",
     "output_type": "stream",
     "text": [
      "/tmp/ipykernel_12582/1378778464.py:2: FutureWarning: A value is trying to be set on a copy of a DataFrame or Series through chained assignment using an inplace method.\n",
      "The behavior will change in pandas 3.0. This inplace method will never work because the intermediate object on which we are setting values always behaves as a copy.\n",
      "\n",
      "For example, when doing 'df[col].method(value, inplace=True)', try using 'df.method({col: value}, inplace=True)' or df[col] = df[col].method(value) instead, to perform the operation inplace on the original object.\n",
      "\n",
      "\n",
      "  active_clients_month['till_next_active_month'] \\\n"
     ]
    }
   ],
   "source": [
    "# Замена NaT на слудущий месяц после максимальной даты\n",
    "active_clients_month['till_next_active_month'] \\\n",
    "    .fillna(active_clients['report_month'].max() + pd.DateOffset(months=1), inplace=True)"
   ]
  },
  {
   "cell_type": "code",
   "execution_count": 5,
   "id": "f5886eaf-72ff-43b0-ad1b-73cbeb28cc15",
   "metadata": {},
   "outputs": [],
   "source": [
    "# Добавить столбец с количестом месяцев до следующей активности\n",
    "active_clients_month['count_of_months_until_next_activity'] = \\\n",
    "    ((active_clients_month['till_next_active_month'] - active_clients_month['report_month'])/28) \\\n",
    "    .dt.days"
   ]
  },
  {
   "cell_type": "code",
   "execution_count": 6,
   "id": "2e3293a1-8d55-4e31-9a75-a89578d0be86",
   "metadata": {},
   "outputs": [],
   "source": [
    "# Удаляем данные за последние три месяца\n",
    "m3 = active_clients[\"report_month\"].max() - pd.DateOffset(months=3)\n",
    "active_clients_month = active_clients_month.query('report_month <= @m3')"
   ]
  },
  {
   "cell_type": "code",
   "execution_count": 7,
   "id": "83adc1af-3e0c-4152-ad9d-b970371ecd3e",
   "metadata": {},
   "outputs": [],
   "source": [
    "# Количество активных клиентов по месяцам\n",
    "count_clients_by_month = active_clients_month \\\n",
    "    .groupby(['report_month'], as_index=False) \\\n",
    "    .agg({'client_id': 'count'}) \\\n",
    "    .reset_index(drop=True) \\\n",
    "    .copy(deep=False)\n",
    "count_clients_by_month.rename(columns={'client_id': 'active_clients'}, inplace=True)"
   ]
  },
  {
   "cell_type": "code",
   "execution_count": 8,
   "id": "685ab8ac-9c9b-4c03-bf2d-d4d8a99e7f34",
   "metadata": {},
   "outputs": [],
   "source": [
    "# Количество оттекших клиентов по месяцам\n",
    "churn_clietns_by_month = active_clients_month \\\n",
    "    .query('count_of_months_until_next_activity >= 3') \\\n",
    "    .groupby(['report_month'], as_index=False) \\\n",
    "    .agg({'client_id': 'count'}) \\\n",
    "    .reset_index(drop=True) \\\n",
    "    .copy(deep=False)\n",
    "churn_clietns_by_month.rename(columns={'client_id': 'chur_clients'}, inplace=True)"
   ]
  },
  {
   "cell_type": "code",
   "execution_count": 9,
   "id": "f1fdf415-0bec-4de6-948a-b50363bddc25",
   "metadata": {},
   "outputs": [],
   "source": [
    "# Добавить через левый джоин количество оттекших клиентов\n",
    "count_clients_by_month = count_clients_by_month.merge(churn_clietns_by_month, how='left', on='report_month')"
   ]
  },
  {
   "cell_type": "code",
   "execution_count": 10,
   "id": "1a9a4cdd-b815-4443-92c1-3c2f6f64bc1f",
   "metadata": {},
   "outputs": [],
   "source": [
    "# Добавить долю оттёкших\n",
    "count_clients_by_month['churn_rate'] = count_clients_by_month['chur_clients']/count_clients_by_month['active_clients']\n",
    "count_clients_by_month.fillna(0, inplace=True)"
   ]
  },
  {
   "cell_type": "code",
   "execution_count": 11,
   "id": "8ca59f80-bb52-430d-ac49-b9164e2674c9",
   "metadata": {},
   "outputs": [
    {
     "data": {
      "text/html": [
       "<div>\n",
       "<style scoped>\n",
       "    .dataframe tbody tr th:only-of-type {\n",
       "        vertical-align: middle;\n",
       "    }\n",
       "\n",
       "    .dataframe tbody tr th {\n",
       "        vertical-align: top;\n",
       "    }\n",
       "\n",
       "    .dataframe thead th {\n",
       "        text-align: right;\n",
       "    }\n",
       "</style>\n",
       "<table border=\"1\" class=\"dataframe\">\n",
       "  <thead>\n",
       "    <tr style=\"text-align: right;\">\n",
       "      <th></th>\n",
       "      <th>report_month</th>\n",
       "      <th>active_clients</th>\n",
       "      <th>churn_rate</th>\n",
       "    </tr>\n",
       "  </thead>\n",
       "  <tbody>\n",
       "    <tr>\n",
       "      <th>0</th>\n",
       "      <td>2018-01-01</td>\n",
       "      <td>3</td>\n",
       "      <td>0.333333</td>\n",
       "    </tr>\n",
       "    <tr>\n",
       "      <th>1</th>\n",
       "      <td>2018-02-01</td>\n",
       "      <td>2</td>\n",
       "      <td>0.000000</td>\n",
       "    </tr>\n",
       "  </tbody>\n",
       "</table>\n",
       "</div>"
      ],
      "text/plain": [
       "  report_month  active_clients  churn_rate\n",
       "0   2018-01-01               3    0.333333\n",
       "1   2018-02-01               2    0.000000"
      ]
     },
     "execution_count": 11,
     "metadata": {},
     "output_type": "execute_result"
    }
   ],
   "source": [
    "# Количество активных клиентов и доля оттёкших\n",
    "churn_rate_by_month = count_clients_by_month[['report_month', 'active_clients', 'churn_rate']]\n",
    "churn_rate_by_month"
   ]
  }
 ],
 "metadata": {
  "kernelspec": {
   "display_name": "Python 3 (ipykernel)",
   "language": "python",
   "name": "python3"
  },
  "language_info": {
   "codemirror_mode": {
    "name": "ipython",
    "version": 3
   },
   "file_extension": ".py",
   "mimetype": "text/x-python",
   "name": "python",
   "nbconvert_exporter": "python",
   "pygments_lexer": "ipython3",
   "version": "3.10.12"
  }
 },
 "nbformat": 4,
 "nbformat_minor": 5
}
